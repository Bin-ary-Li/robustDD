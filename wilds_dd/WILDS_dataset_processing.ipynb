{
 "cells": [
  {
   "cell_type": "code",
   "execution_count": 1,
   "metadata": {},
   "outputs": [],
   "source": [
    "# !pip install wilds"
   ]
  },
  {
   "cell_type": "code",
   "execution_count": 2,
   "metadata": {},
   "outputs": [],
   "source": [
    "from wilds import get_dataset\n",
    "from wilds.common.data_loaders import get_train_loader\n",
    "from wilds.common.data_loaders import get_eval_loader\n",
    "import torchvision.transforms as transforms\n",
    "from torchvision.models import DenseNet\n",
    "import torch\n",
    "import pytorch_lightning as pl"
   ]
  },
  {
   "cell_type": "markdown",
   "metadata": {},
   "source": []
  },
  {
   "cell_type": "code",
   "execution_count": 3,
   "metadata": {},
   "outputs": [],
   "source": [
    "# Load the full dataset, and download it if necessary\n",
    "dataset = get_dataset(dataset=\"camelyon17\", download=True)"
   ]
  },
  {
   "cell_type": "code",
   "execution_count": 4,
   "metadata": {},
   "outputs": [],
   "source": [
    "trans = transforms.Compose(\n",
    "        [transforms.ToTensor()]\n",
    "    )\n",
    "\n",
    "train_data = dataset.get_subset(\n",
    "    \"train\",\n",
    "    frac=1,\n",
    "    transform=trans,\n",
    ")\n",
    "\n",
    "# Get the test set\n",
    "test_data = dataset.get_subset(\n",
    "    \"test\",\n",
    "    transform=trans\n",
    ")\n",
    "\n",
    "val_data = dataset.get_subset(\n",
    "    'val',\n",
    "    transform=trans\n",
    ")\n",
    "\n",
    "id_val_data = dataset.get_subset(\n",
    "    'id_val',\n",
    "    transform=trans\n",
    ")\n",
    "\n",
    "test_datasets = [test_data, val_data, id_val_data]\n",
    "test_split_names = ['test', 'val', 'idval']"
   ]
  },
  {
   "cell_type": "code",
   "execution_count": 5,
   "metadata": {},
   "outputs": [],
   "source": [
    "class LitDensenet(pl.LightningModule):\n",
    "    ''' Returns a Densenet121 with growth parameter k. '''\n",
    "    def __init__(self, trainset, testsets, testset_names, \n",
    "                k=32, num_classes=10, lr=1e-4, train_batch_size=256, test_batch_size=256):\n",
    "        super().__init__()\n",
    "        self.trainset = trainset\n",
    "        self.testsets = testsets\n",
    "        self.testset_names = testset_names\n",
    "        self.train_batch_size = train_batch_size\n",
    "        self.test_batch_size = test_batch_size\n",
    "        self.model = DenseNet(growth_rate=k, num_classes=num_classes)\n",
    "        self.lr = lr\n",
    "\n",
    "    def train_dataloader(self):\n",
    "        train_loader=  get_train_loader(\"standard\", self.trainset, \n",
    "                                batch_size=self.train_batch_size,\n",
    "                                num_workers=8, pin_memory=True)\n",
    "        return train_loader\n",
    "    \n",
    "    def val_dataloader(self):\n",
    "        val_loaders = []\n",
    "        for dataset in self.testsets:\n",
    "            loader = get_eval_loader(\"standard\", dataset, \n",
    "                                batch_size=self.test_batch_size,\n",
    "                                num_workers=8, pin_memory=True)\n",
    "            val_loaders.append(loader)\n",
    "        return val_loaders\n",
    "\n",
    "    def training_step(self, batch, batch_idx):\n",
    "        inputs, labels, metadata = batch\n",
    "        inputs = inputs.cuda()\n",
    "        labels = labels.cuda()\n",
    "        outputs = self.model(inputs)\n",
    "        loss = torch.nn.functional.cross_entropy(outputs, labels)\n",
    "\n",
    "        _, y_pred = torch.max(outputs.data, 1)\n",
    "        return {'loss':loss,\n",
    "                'y_pred':y_pred.cpu(),\n",
    "                'labels':labels.cpu(),\n",
    "                'metadata':metadata.cpu()}\n",
    "    \n",
    "    def training_epoch_end(self, train_step_outputs):\n",
    "        preds = [x[\"y_pred\"] for x in train_step_outputs]\n",
    "        labels = [x[\"labels\"] for x in train_step_outputs]\n",
    "        metadata = [x[\"metadata\"] for x in train_step_outputs]\n",
    "        eval = self.trainset.eval(torch.cat(preds), \n",
    "                            torch.cat(labels), \n",
    "                            torch.cat(metadata))\n",
    "        for key, value in eval[0].items():\n",
    "            if 'avg' in key or 'wg' in key:\n",
    "                self.log(key+'_'+'train', value, on_epoch=True)\n",
    "            else:\n",
    "                self.log(key,value, on_epoch=True)\n",
    "\n",
    "\n",
    "    def validation_step(self, batch, batch_idx, dataloader_idx):\n",
    "        inputs, labels, metadata = batch\n",
    "        inputs = inputs.cuda()\n",
    "        labels = labels.cuda()\n",
    "        outputs = self.model(inputs)\n",
    "        loss = torch.nn.functional.cross_entropy(outputs, labels)\n",
    "\n",
    "        _, y_pred = torch.max(outputs.data, 1)\n",
    "        return {'loss':loss,\n",
    "                'test_idx':dataloader_idx,\n",
    "                'y_pred':y_pred.cpu(),\n",
    "                'labels':labels.cpu(),\n",
    "                'metadata':metadata.cpu()}\n",
    "\n",
    "    def validation_epoch_end(self, val_step_outputs) -> None:\n",
    "        for k in range(len(self.testsets)):\n",
    "            preds = []\n",
    "            labels = []\n",
    "            metadata = []\n",
    "            for x in val_step_outputs[k]:\n",
    "                preds.append(x['y_pred'])\n",
    "                labels.append(x['labels'])\n",
    "                metadata.append(x['metadata'])\n",
    "            eval = self.testsets[k].eval(torch.cat(preds), \n",
    "                                        torch.cat(labels), \n",
    "                                        torch.cat(metadata))\n",
    "            # Logging\n",
    "            testset_name = self.testset_names[k]\n",
    "            for key, value in eval[0].items():\n",
    "                if 'avg' in key or 'wg' in key:\n",
    "                    self.log(key+'_'+testset_name, value)\n",
    "                else:\n",
    "                    self.log(key,value)\n",
    "\n",
    "    def configure_optimizers(self):\n",
    "        optimizer = torch.optim.Adam(self.parameters(), lr=self.lr)\n",
    "        return optimizer"
   ]
  },
  {
   "cell_type": "code",
   "execution_count": 6,
   "metadata": {},
   "outputs": [],
   "source": [
    "lr = 0.0001\n",
    "batch_size = 256\n",
    "k = 16\n",
    "n_cls = 2\n",
    "label_noise = 0\n",
    "max_epoch = 1"
   ]
  },
  {
   "cell_type": "code",
   "execution_count": 7,
   "metadata": {},
   "outputs": [],
   "source": [
    "model = LitDensenet(train_data, test_datasets, test_split_names, \n",
    "                    k=k, num_classes=n_cls, lr=lr)"
   ]
  },
  {
   "cell_type": "code",
   "execution_count": 8,
   "metadata": {},
   "outputs": [],
   "source": [
    "logger = pl.loggers.CSVLogger('logs', \n",
    "                            name=f\"densenet_width{k}_noise{label_noise}\")"
   ]
  },
  {
   "cell_type": "code",
   "execution_count": 9,
   "metadata": {},
   "outputs": [
    {
     "name": "stderr",
     "output_type": "stream",
     "text": [
      "Using 16bit native Automatic Mixed Precision (AMP)\n",
      "GPU available: True, used: True\n",
      "TPU available: False, using: 0 TPU cores\n",
      "IPU available: False, using: 0 IPUs\n"
     ]
    }
   ],
   "source": [
    "trainer = pl.Trainer(\n",
    "    max_epochs=max_epoch,\n",
    "    accelerator=\"gpu\",\n",
    "    precision=16,\n",
    "    logger=logger,\n",
    "    devices=1,)"
   ]
  },
  {
   "cell_type": "code",
   "execution_count": 10,
   "metadata": {},
   "outputs": [
    {
     "name": "stderr",
     "output_type": "stream",
     "text": [
      "LOCAL_RANK: 0 - CUDA_VISIBLE_DEVICES: [0]\n",
      "\n",
      "  | Name  | Type     | Params\n",
      "-----------------------------------\n",
      "0 | model | DenseNet | 1.8 M \n",
      "-----------------------------------\n",
      "1.8 M     Trainable params\n",
      "0         Non-trainable params\n",
      "1.8 M     Total params\n",
      "3.646     Total estimated model params size (MB)\n"
     ]
    },
    {
     "name": "stdout",
     "output_type": "stream",
     "text": [
      "Epoch 0: 100%|██████████| 1784/1784 [02:04<00:00, 14.36it/s, loss=0.0876, v_num=1]\n"
     ]
    },
    {
     "ename": "",
     "evalue": "",
     "output_type": "error",
     "traceback": [
      "The Kernel crashed while executing code in the the current cell or a previous cell. Please review the code in the cell(s) to identify a possible cause of the failure. Click <a href='https://aka.ms/vscodeJupyterKernelCrash'>here</a> for more info. View Jupyter <a href='command:jupyter.viewOutput'>log</a> for further details."
     ]
    }
   ],
   "source": [
    "trainer.fit(model)"
   ]
  },
  {
   "cell_type": "code",
   "execution_count": null,
   "metadata": {},
   "outputs": [],
   "source": []
  }
 ],
 "metadata": {
  "kernelspec": {
   "display_name": "Python 3.9.7 ('pytorch')",
   "language": "python",
   "name": "python3"
  },
  "language_info": {
   "codemirror_mode": {
    "name": "ipython",
    "version": 3
   },
   "file_extension": ".py",
   "mimetype": "text/x-python",
   "name": "python",
   "nbconvert_exporter": "python",
   "pygments_lexer": "ipython3",
   "version": "3.9.7"
  },
  "orig_nbformat": 4,
  "vscode": {
   "interpreter": {
    "hash": "89b745ae7b5985586b392e1ddd14281a23a7de24813ea63ee9d4303586a65900"
   }
  }
 },
 "nbformat": 4,
 "nbformat_minor": 2
}
